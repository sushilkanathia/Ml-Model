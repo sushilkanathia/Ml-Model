{
 "cells": [
  {
   "cell_type": "markdown",
   "metadata": {},
   "source": [
    "Firstly Import the Required Modules."
   ]
  },
  {
   "cell_type": "code",
   "execution_count": 2,
   "metadata": {},
   "outputs": [
    {
     "data": {
      "text/html": [
       "<div>\n",
       "<style scoped>\n",
       "    .dataframe tbody tr th:only-of-type {\n",
       "        vertical-align: middle;\n",
       "    }\n",
       "\n",
       "    .dataframe tbody tr th {\n",
       "        vertical-align: top;\n",
       "    }\n",
       "\n",
       "    .dataframe thead th {\n",
       "        text-align: right;\n",
       "    }\n",
       "</style>\n",
       "<table border=\"1\" class=\"dataframe\">\n",
       "  <thead>\n",
       "    <tr style=\"text-align: right;\">\n",
       "      <th></th>\n",
       "      <th>id</th>\n",
       "      <th>tweet_text</th>\n",
       "      <th>tweet_created_at</th>\n",
       "      <th>tweet_intent</th>\n",
       "    </tr>\n",
       "  </thead>\n",
       "  <tbody>\n",
       "    <tr>\n",
       "      <th>0</th>\n",
       "      <td>1212762</td>\n",
       "      <td>@crypto_brody @eCoLoGy1990 @MoonrunnersNFT @It...</td>\n",
       "      <td>2022-08-06T16:56:36.000Z</td>\n",
       "      <td>Community</td>\n",
       "    </tr>\n",
       "    <tr>\n",
       "      <th>1</th>\n",
       "      <td>1212763</td>\n",
       "      <td>Need Sick Character artâ“#art #artist #Artist...</td>\n",
       "      <td>2022-08-06T16:56:36.000Z</td>\n",
       "      <td>Giveaway</td>\n",
       "    </tr>\n",
       "    <tr>\n",
       "      <th>2</th>\n",
       "      <td>1212765</td>\n",
       "      <td>@The_Hulk_NFT @INagotchiNFT @Tesla @killabears...</td>\n",
       "      <td>2022-08-06T16:56:35.000Z</td>\n",
       "      <td>Appreciation</td>\n",
       "    </tr>\n",
       "    <tr>\n",
       "      <th>3</th>\n",
       "      <td>1212766</td>\n",
       "      <td>@CryptoBatzNFT @DarekBTW The first project in ...</td>\n",
       "      <td>2022-08-06T16:56:35.000Z</td>\n",
       "      <td>Community</td>\n",
       "    </tr>\n",
       "    <tr>\n",
       "      <th>4</th>\n",
       "      <td>1212767</td>\n",
       "      <td>@sashadysonn The first project in crypto with ...</td>\n",
       "      <td>2022-08-06T16:56:34.000Z</td>\n",
       "      <td>Community</td>\n",
       "    </tr>\n",
       "    <tr>\n",
       "      <th>5</th>\n",
       "      <td>1212768</td>\n",
       "      <td>ðŸŽ‰ Just registered for the saphire on @PREMI...</td>\n",
       "      <td>2022-08-06T16:56:34.000Z</td>\n",
       "      <td>Presale</td>\n",
       "    </tr>\n",
       "    <tr>\n",
       "      <th>6</th>\n",
       "      <td>1212769</td>\n",
       "      <td>ðŸš¨ THE BRIDGED #4660/9999 SOLD!!! =&amp;gt; PRIC...</td>\n",
       "      <td>2022-08-06T16:56:33.000Z</td>\n",
       "      <td>Giveaway</td>\n",
       "    </tr>\n",
       "    <tr>\n",
       "      <th>7</th>\n",
       "      <td>1212771</td>\n",
       "      <td>@mtnDAO PROJECT 21 - THE BEST GAMEFI PROJECT O...</td>\n",
       "      <td>2022-08-06T16:56:33.000Z</td>\n",
       "      <td>Whitelist</td>\n",
       "    </tr>\n",
       "    <tr>\n",
       "      <th>8</th>\n",
       "      <td>1212772</td>\n",
       "      <td>@Ra8bitsNFT Feature it on @Globalnft07\\nWe hav...</td>\n",
       "      <td>2022-08-06T16:56:33.000Z</td>\n",
       "      <td>Community</td>\n",
       "    </tr>\n",
       "    <tr>\n",
       "      <th>9</th>\n",
       "      <td>1212774</td>\n",
       "      <td>@SpaceBrosBSC PROJECT 21 - THE BEST GAMEFI PRO...</td>\n",
       "      <td>2022-08-06T16:56:32.000Z</td>\n",
       "      <td>Whitelist</td>\n",
       "    </tr>\n",
       "  </tbody>\n",
       "</table>\n",
       "</div>"
      ],
      "text/plain": [
       "        id                                         tweet_text  \\\n",
       "0  1212762  @crypto_brody @eCoLoGy1990 @MoonrunnersNFT @It...   \n",
       "1  1212763  Need Sick Character artâ“#art #artist #Artist...   \n",
       "2  1212765  @The_Hulk_NFT @INagotchiNFT @Tesla @killabears...   \n",
       "3  1212766  @CryptoBatzNFT @DarekBTW The first project in ...   \n",
       "4  1212767  @sashadysonn The first project in crypto with ...   \n",
       "5  1212768  ðŸŽ‰ Just registered for the saphire on @PREMI...   \n",
       "6  1212769  ðŸš¨ THE BRIDGED #4660/9999 SOLD!!! =&gt; PRIC...   \n",
       "7  1212771  @mtnDAO PROJECT 21 - THE BEST GAMEFI PROJECT O...   \n",
       "8  1212772  @Ra8bitsNFT Feature it on @Globalnft07\\nWe hav...   \n",
       "9  1212774  @SpaceBrosBSC PROJECT 21 - THE BEST GAMEFI PRO...   \n",
       "\n",
       "           tweet_created_at  tweet_intent  \n",
       "0  2022-08-06T16:56:36.000Z     Community  \n",
       "1  2022-08-06T16:56:36.000Z      Giveaway  \n",
       "2  2022-08-06T16:56:35.000Z  Appreciation  \n",
       "3  2022-08-06T16:56:35.000Z     Community  \n",
       "4  2022-08-06T16:56:34.000Z     Community  \n",
       "5  2022-08-06T16:56:34.000Z       Presale  \n",
       "6  2022-08-06T16:56:33.000Z      Giveaway  \n",
       "7  2022-08-06T16:56:33.000Z     Whitelist  \n",
       "8  2022-08-06T16:56:33.000Z     Community  \n",
       "9  2022-08-06T16:56:32.000Z     Whitelist  "
      ]
     },
     "execution_count": 2,
     "metadata": {},
     "output_type": "execute_result"
    }
   ],
   "source": [
    "import pandas as pd\n",
    "import numpy as np\n",
    "from matplotlib import pyplot as plt\n",
    "import matplotlib \n",
    "# matplotlib.rcParams[\"figure.figsize\"] = (20,10)\n",
    "\n",
    "a = pd.read_excel('C:\\\\Users\\\\hp\\\\Downloads\\\\Tweet_NFT.xlsx')\n",
    "a.head(10)"
   ]
  },
  {
   "cell_type": "code",
   "execution_count": 3,
   "metadata": {},
   "outputs": [
    {
     "data": {
      "text/plain": [
       "(127453, 4)"
      ]
     },
     "execution_count": 3,
     "metadata": {},
     "output_type": "execute_result"
    }
   ],
   "source": [
    "a.shape"
   ]
  },
  {
   "cell_type": "code",
   "execution_count": 4,
   "metadata": {},
   "outputs": [
    {
     "data": {
      "text/plain": [
       "Index(['id', 'tweet_text', 'tweet_created_at', 'tweet_intent'], dtype='object')"
      ]
     },
     "execution_count": 4,
     "metadata": {},
     "output_type": "execute_result"
    }
   ],
   "source": [
    "a.columns"
   ]
  },
  {
   "cell_type": "markdown",
   "metadata": {},
   "source": [
    "Count the total of each tweet intent.\n"
   ]
  },
  {
   "cell_type": "code",
   "execution_count": 5,
   "metadata": {},
   "outputs": [
    {
     "data": {
      "text/plain": [
       "Community         41510\n",
       "Giveaway          21041\n",
       "Appreciation      16451\n",
       "Whitelist          8320\n",
       "Presale            5107\n",
       "Done               3049\n",
       "pinksale            477\n",
       "Interested          276\n",
       "Launching Soon      133\n",
       "Name: tweet_intent, dtype: int64"
      ]
     },
     "execution_count": 5,
     "metadata": {},
     "output_type": "execute_result"
    }
   ],
   "source": [
    "a['tweet_intent'].value_counts() "
   ]
  },
  {
   "cell_type": "markdown",
   "metadata": {},
   "source": [
    "Drop Columns which is not required for our Model."
   ]
  },
  {
   "cell_type": "code",
   "execution_count": 6,
   "metadata": {},
   "outputs": [
    {
     "data": {
      "text/plain": [
       "(127453, 2)"
      ]
     },
     "execution_count": 6,
     "metadata": {},
     "output_type": "execute_result"
    }
   ],
   "source": [
    "b = a.drop(['id','tweet_created_at'],axis='columns')\n",
    "b.shape"
   ]
  },
  {
   "cell_type": "markdown",
   "metadata": {},
   "source": [
    "Check how many null values are there."
   ]
  },
  {
   "cell_type": "code",
   "execution_count": 7,
   "metadata": {},
   "outputs": [
    {
     "data": {
      "text/plain": [
       "tweet_text          0\n",
       "tweet_intent    31089\n",
       "dtype: int64"
      ]
     },
     "execution_count": 7,
     "metadata": {},
     "output_type": "execute_result"
    }
   ],
   "source": [
    "b.isnull().sum()"
   ]
  },
  {
   "cell_type": "markdown",
   "metadata": {},
   "source": [
    "Drop that all null values"
   ]
  },
  {
   "cell_type": "code",
   "execution_count": 8,
   "metadata": {},
   "outputs": [
    {
     "data": {
      "text/plain": [
       "tweet_text      0\n",
       "tweet_intent    0\n",
       "dtype: int64"
      ]
     },
     "execution_count": 8,
     "metadata": {},
     "output_type": "execute_result"
    }
   ],
   "source": [
    "c = b.dropna()\n",
    "c.isnull().sum()"
   ]
  },
  {
   "cell_type": "code",
   "execution_count": 9,
   "metadata": {},
   "outputs": [
    {
     "data": {
      "text/plain": [
       "(96364, 2)"
      ]
     },
     "execution_count": 9,
     "metadata": {},
     "output_type": "execute_result"
    }
   ],
   "source": [
    "c.shape"
   ]
  },
  {
   "cell_type": "code",
   "execution_count": 11,
   "metadata": {},
   "outputs": [
    {
     "data": {
      "image/png": "[encoded data removed]",
      "text/plain": [
       "<Figure size 432x288 with 1 Axes>"
      ]
     },
     "metadata": {
      "needs_background": "light"
     },
     "output_type": "display_data"
    }
   ],
   "source": [
    "x = c['tweet_intent']\n",
    "plt.plot(x)\n",
    "plt.show()"
   ]
  },
  {
   "cell_type": "code",
   "execution_count": null,
   "metadata": {},
   "outputs": [],
   "source": []
  }
 ],
 "metadata": {
  "kernelspec": {
   "display_name": "Python 3.9.13 64-bit",
   "language": "python",
   "name": "python3"
  },
  "language_info": {
   "codemirror_mode": {
    "name": "ipython",
    "version": 3
   },
   "file_extension": ".py",
   "mimetype": "text/x-python",
   "name": "python",
   "nbconvert_exporter": "python",
   "pygments_lexer": "ipython3",
   "version": "3.9.13"
  },
  "orig_nbformat": 4,
  "vscode": {
   "interpreter": {
    "hash": "b671c20432fcd147198c92e7f072af9e705f087eb990bee22b07f08caab9f630"
   }
  }
 },
 "nbformat": 4,
 "nbformat_minor": 2
}
